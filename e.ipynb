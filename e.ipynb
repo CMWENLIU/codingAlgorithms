{
  "nbformat": 4,
  "nbformat_minor": 0,
  "metadata": {
    "colab": {
      "name": "e",
      "version": "0.3.2",
      "provenance": [],
      "collapsed_sections": [],
      "include_colab_link": true
    },
    "kernelspec": {
      "name": "python3",
      "display_name": "Python 3"
    }
  },
  "cells": [
    {
      "cell_type": "markdown",
      "metadata": {
        "id": "view-in-github",
        "colab_type": "text"
      },
      "source": [
        "<a href=\"https://colab.research.google.com/github/CMWENLIU/codingAlgorithms/blob/master/e.ipynb\" target=\"_parent\"><img src=\"https://colab.research.google.com/assets/colab-badge.svg\" alt=\"Open In Colab\"/></a>"
      ]
    },
    {
      "cell_type": "code",
      "metadata": {
        "id": "0sASrYY1gaK7",
        "colab_type": "code",
        "outputId": "d8a4f40f-838c-48b2-8055-128e38a22843",
        "colab": {
          "base_uri": "https://localhost:8080/",
          "height": 35
        }
      },
      "source": [
        "def two_sum(a, t):\n",
        "  lookup = {}\n",
        "  for i, v in enumerate(a):\n",
        "    if t - v in lookup:\n",
        "      return [lookup[t-v], i]\n",
        "    lookup[v] = i\n",
        "a = [2, 7, 11,15]\n",
        "r = two_sum(a, 9)\n",
        "r"
      ],
      "execution_count": 0,
      "outputs": [
        {
          "output_type": "execute_result",
          "data": {
            "text/plain": [
              "[0, 1]"
            ]
          },
          "metadata": {
            "tags": []
          },
          "execution_count": 2
        }
      ]
    },
    {
      "cell_type": "code",
      "metadata": {
        "id": "ugcap05Zq7Hl",
        "colab_type": "code",
        "outputId": "f21d99d4-dd92-403f-8ceb-ce3f76fb5e67",
        "colab": {
          "base_uri": "https://localhost:8080/",
          "height": 35
        }
      },
      "source": [
        "class solution(object):\n",
        "  def reverse_integer(self, num):\n",
        "    if num < 0:\n",
        "      return -self.reverse_integer(-num)\n",
        "    r = 0\n",
        "    while num:\n",
        "      r = r*10 + num%10\n",
        "      num //= 10\n",
        "    return r if r<=0x7fffffff else 0\n",
        "s = solution()\n",
        "r = s.reverse_integer(80)\n",
        "r"
      ],
      "execution_count": 0,
      "outputs": [
        {
          "output_type": "execute_result",
          "data": {
            "text/plain": [
              "8"
            ]
          },
          "metadata": {
            "tags": []
          },
          "execution_count": 26
        }
      ]
    },
    {
      "cell_type": "code",
      "metadata": {
        "id": "m4luVdpV_UTP",
        "colab_type": "code",
        "outputId": "5e585f49-1740-4160-e48f-b51fa3885a59",
        "colab": {
          "base_uri": "https://localhost:8080/",
          "height": 35
        }
      },
      "source": [
        "def palindrome_number(x):\n",
        "  if x < 0 or (x != 0 and x % 10 ==0):\n",
        "    return False\n",
        "  r = 0\n",
        "  while (r < x):\n",
        "    r = r * 10 + x % 10\n",
        "    x //= 10\n",
        "  return r == x or r // 10 == x\n",
        "\n",
        "palindrome_number(-909)"
      ],
      "execution_count": 0,
      "outputs": [
        {
          "output_type": "execute_result",
          "data": {
            "text/plain": [
              "False"
            ]
          },
          "metadata": {
            "tags": []
          },
          "execution_count": 31
        }
      ]
    },
    {
      "cell_type": "code",
      "metadata": {
        "id": "yINoZzmVSn13",
        "colab_type": "code",
        "outputId": "b471bf6e-95f8-434d-af96-887e7a1e2450",
        "colab": {
          "base_uri": "https://localhost:8080/",
          "height": 35
        }
      },
      "source": [
        "class solution:\n",
        "  def roman_to_integer(self, s):\n",
        "    num_map = {'I':1, 'V':5, 'X':10, 'L':50, 'C':100, 'D':500, 'M':1000}\n",
        "    r = 0\n",
        "    for i, v in enumerate(s):\n",
        "      if i < len(s)-1 and num_map[s[i]] < num_map[s[i+1]]:\n",
        "        r -= num_map[v]\n",
        "      else:\n",
        "        r += num_map[v]\n",
        "    return r\n",
        "        \n",
        "if __name__ == \"__main__\":\n",
        "  t = solution().roman_to_integer(\"DCCCLXXVIII\")\n",
        "  print(t)"
      ],
      "execution_count": 0,
      "outputs": [
        {
          "output_type": "stream",
          "text": [
            "878\n"
          ],
          "name": "stdout"
        }
      ]
    },
    {
      "cell_type": "code",
      "metadata": {
        "id": "Ww2Q-sQJnKsJ",
        "colab_type": "code",
        "outputId": "18a6912e-c63f-47b9-cdf4-3757e1f19e82",
        "colab": {
          "base_uri": "https://localhost:8080/",
          "height": 35
        }
      },
      "source": [
        "class solution:\n",
        "  def longest_common_prefix(self, strs):\n",
        "    if not strs:\n",
        "      return ''\n",
        "    base = strs[0]\n",
        "    for i in range(len(base)):\n",
        "      for string in strs:\n",
        "        if i >= len(string) or base[i]!= string[i]:\n",
        "          return base[:i]\n",
        "    return base\n",
        "\n",
        "if __name__ == \"__main__\":\n",
        "  r = solution().longest_common_prefix(['abc', 'abcrteui', 'ab4489w','aaaaa'])\n",
        "  print(r)"
      ],
      "execution_count": 0,
      "outputs": [
        {
          "output_type": "stream",
          "text": [
            "a\n"
          ],
          "name": "stdout"
        }
      ]
    },
    {
      "cell_type": "code",
      "metadata": {
        "id": "QTIP8I1LOhZq",
        "colab_type": "code",
        "outputId": "376fa913-106e-4101-e867-c9205cff1a79",
        "colab": {
          "base_uri": "https://localhost:8080/",
          "height": 35
        }
      },
      "source": [
        "class solution():\n",
        "  def valid_parentheses(self, s):\n",
        "    stack, lookup = [], {'(': ')', '{': '}', '[': ']'}\n",
        "    for p in s:\n",
        "      if p in lookup:\n",
        "        stack.append(p)\n",
        "      elif len(stack) == 0 or lookup[stack.pop()] != p:\n",
        "        return False\n",
        "    return len(stack) == 0\n",
        "\n",
        "if __name__ == \"__main__\":\n",
        "  print(solution().valid_parentheses(\"{{{}[]()}}\"))"
      ],
      "execution_count": 0,
      "outputs": [
        {
          "output_type": "stream",
          "text": [
            "True\n"
          ],
          "name": "stdout"
        }
      ]
    },
    {
      "cell_type": "code",
      "metadata": {
        "id": "0FxH7ieb4rW8",
        "colab_type": "code",
        "outputId": "4409d19f-5098-470a-e6c7-5595fc61344b",
        "colab": {
          "base_uri": "https://localhost:8080/",
          "height": 90
        }
      },
      "source": [
        "class listNode(object):\n",
        "  def __init__(self, x):\n",
        "    self.val = x\n",
        "    self.next = None\n",
        "\n",
        "class solution(object):\n",
        "  def merge_two_sorted_list(self, l1, l2):\n",
        "    curr = dummy = listNode(0)\n",
        "    while l1 and l2:\n",
        "      if l1.val < l2.val:\n",
        "        curr.next = l1\n",
        "        l1 = l1.next\n",
        "      else:\n",
        "        curr.next = l2\n",
        "        l2 = l2.next\n",
        "      curr = curr.next\n",
        "    curr.next = l1 or l2\n",
        "    return dummy.next\n",
        "  \n",
        "if __name__ == \"__main__\":\n",
        "  l1 = listNode(8)\n",
        "  l1.next = listNode(10)\n",
        "  l2 = listNode(5)\n",
        "  l2.next = listNode(9)\n",
        "  l = solution().merge_two_sorted_list(l1, l2)\n",
        "  while l:\n",
        "    print (l.val)\n",
        "    l = l.next\n",
        "    "
      ],
      "execution_count": 0,
      "outputs": [
        {
          "output_type": "stream",
          "text": [
            "5\n",
            "8\n",
            "9\n",
            "10\n"
          ],
          "name": "stdout"
        }
      ]
    },
    {
      "cell_type": "code",
      "metadata": {
        "id": "6Bn03_jl_pq9",
        "colab_type": "code",
        "outputId": "b85d3fb8-06a2-440e-9eba-cfcfbea00fe6",
        "colab": {
          "base_uri": "https://localhost:8080/",
          "height": 35
        }
      },
      "source": [
        "class solution(object):\n",
        "  def remove_duplicates_from_sorted_array(self, a):\n",
        "    if not a:\n",
        "      return 0\n",
        "    j = 0\n",
        "    for v in a:\n",
        "      if v != a[j]:\n",
        "        j += 1\n",
        "        a[j] = v \n",
        "    return j + 1\n",
        "\n",
        "if __name__ == \"__main__\":\n",
        "  a = [1,1,2,3,3,3,4,5,5,5,6]\n",
        "  print(solution().remove_duplicates_from_sorted_array(a))"
      ],
      "execution_count": 0,
      "outputs": [
        {
          "output_type": "stream",
          "text": [
            "6\n"
          ],
          "name": "stdout"
        }
      ]
    },
    {
      "cell_type": "code",
      "metadata": {
        "id": "tZ9CisD9Ec_L",
        "colab_type": "code",
        "outputId": "76c5cebf-4ed0-405b-9d26-fe9dfa1a0b8b",
        "colab": {
          "base_uri": "https://localhost:8080/",
          "height": 35
        }
      },
      "source": [
        "class solution(object):\n",
        "  def remove_element(self, a, num):\n",
        "    i, j =0, len(a) - 1\n",
        "    while i <= j:\n",
        "      if a[i] == num:\n",
        "        a[i], a[j] = a[j], a[i]\n",
        "        j -= 1\n",
        "      else:\n",
        "        i += 1\n",
        "    return i\n",
        "if __name__ ==\"__main__\":\n",
        "  a = [0,1,2,2,7,3,2,0,4,4, 2]\n",
        "  print(solution().remove_element(a, 7))\n",
        "          \n",
        "    "
      ],
      "execution_count": 0,
      "outputs": [
        {
          "output_type": "stream",
          "text": [
            "10\n"
          ],
          "name": "stdout"
        }
      ]
    },
    {
      "cell_type": "code",
      "metadata": {
        "id": "19ky7lNYMd9F",
        "colab_type": "code",
        "outputId": "01d9ac83-9821-4e66-a8ab-cbeedfcd0cf0",
        "colab": {
          "base_uri": "https://localhost:8080/",
          "height": 35
        }
      },
      "source": [
        "class solution(object):\n",
        "  def implement_strstr(self, haystack, needle):\n",
        "    for i in range(len(haystack) - len(needle) + 1):\n",
        "      if haystack[i: i + len(needle)] == needle:\n",
        "        return i\n",
        "    return -1\n",
        "  \n",
        "if __name__ == \"__main__\":\n",
        "  print (solution().implement_strstr('hello', 'lll'))"
      ],
      "execution_count": 0,
      "outputs": [
        {
          "output_type": "stream",
          "text": [
            "-1\n"
          ],
          "name": "stdout"
        }
      ]
    },
    {
      "cell_type": "code",
      "metadata": {
        "id": "8E-d1Ashd2zd",
        "colab_type": "code",
        "outputId": "edc452b9-cf7a-4186-90a1-85d3ea29f960",
        "colab": {
          "base_uri": "https://localhost:8080/",
          "height": 35
        }
      },
      "source": [
        "class solution(object):\n",
        "  def search_insert_position(self, a, t):\n",
        "    for i, v in enumerate(a):\n",
        "      if v >= t:\n",
        "        return i\n",
        "    return i + 1\n",
        "  \n",
        "if __name__ == \"__main__\":\n",
        "  a = [1,3,5,6]\n",
        "  print(solution().search_insert_position(a, 5))\n",
        "    "
      ],
      "execution_count": 0,
      "outputs": [
        {
          "output_type": "stream",
          "text": [
            "2\n"
          ],
          "name": "stdout"
        }
      ]
    },
    {
      "cell_type": "code",
      "metadata": {
        "id": "D6lGnhBOocA4",
        "colab_type": "code",
        "outputId": "9843dcab-06b3-4302-d2ae-339c5eb232f8",
        "colab": {
          "base_uri": "https://localhost:8080/",
          "height": 35
        }
      },
      "source": [
        "class solution(object):\n",
        "  def search_insert_position(self, a, t):\n",
        "    left, right = 0, len(a) - 1\n",
        "    if a[0] >= t:\n",
        "      return 0\n",
        "    if a[-1] <t:\n",
        "      return len(a)\n",
        "    while left <= right:\n",
        "      mid = (left + right)// 2\n",
        "      if a[mid] >= t:\n",
        "        right = mid - 1\n",
        "      else:\n",
        "        left = mid + 1\n",
        "    return mid\n",
        "  \n",
        "if __name__ == \"__main__\":\n",
        "  a = [1,3,5,6, 7, 8, 8, 9, 12]\n",
        "  print(solution().search_insert_position(a, 12))"
      ],
      "execution_count": 0,
      "outputs": [
        {
          "output_type": "stream",
          "text": [
            "8\n"
          ],
          "name": "stdout"
        }
      ]
    },
    {
      "cell_type": "code",
      "metadata": {
        "id": "0J5CZvXkLxp2",
        "colab_type": "code",
        "colab": {
          "base_uri": "https://localhost:8080/",
          "height": 35
        },
        "outputId": "fa4be994-d22e-48e3-bd29-7d7b62a2c77f"
      },
      "source": [
        "class solution(object):\n",
        "  def length_of_last_word(self, s):\n",
        "    lastlength = 0\n",
        "    for i in reversed(range(len(s))):\n",
        "      if s[i] != ' ':\n",
        "        lastlength += 1\n",
        "      if s[i] == ' ' and lastlength != 0:\n",
        "        return lastlength\n",
        "    return lastlength\n",
        "  \n",
        "if __name__ == \"__main__\":\n",
        "  s = 'ldsks lsdl sdf sds  n   '\n",
        "  print(solution().length_of_last_word(s))\n",
        "        "
      ],
      "execution_count": 6,
      "outputs": [
        {
          "output_type": "stream",
          "text": [
            "1\n"
          ],
          "name": "stdout"
        }
      ]
    },
    {
      "cell_type": "code",
      "metadata": {
        "id": "4twxC0P_RGmX",
        "colab_type": "code",
        "colab": {
          "base_uri": "https://localhost:8080/",
          "height": 35
        },
        "outputId": "40cd89ae-261b-4862-f3de-d0cf52b7c085"
      },
      "source": [
        "class solution(object):\n",
        "  def plus_one(self, a):\n",
        "    for i in reversed(range(len(a))):\n",
        "      if a[i] != 9:\n",
        "        a[i] += 1\n",
        "        return a\n",
        "      a[i] = 0\n",
        "    a.insert(0, 1)\n",
        "    return a\n",
        "  \n",
        "if __name__ == \"__main__\":\n",
        "  num = [9,9,9,9]\n",
        "  print(solution().plus_one(num))\n",
        "        "
      ],
      "execution_count": 14,
      "outputs": [
        {
          "output_type": "stream",
          "text": [
            "[1, 0, 0, 0, 0]\n"
          ],
          "name": "stdout"
        }
      ]
    },
    {
      "cell_type": "code",
      "metadata": {
        "id": "FRobECFKY711",
        "colab_type": "code",
        "colab": {
          "base_uri": "https://localhost:8080/",
          "height": 35
        },
        "outputId": "5f74d8d9-9c61-429d-e6f3-7765c6df552a"
      },
      "source": [
        "class solution(object):\n",
        "  def add_binary(self, a, b):\n",
        "    res, plus, i, j = '', 0, len(a)-1, len(b)-1\n",
        "    while i>=0 or j>=0 or plus==1:\n",
        "      plus += int(a[i]) if i>=0 else 0\n",
        "      plus += int(b[j]) if j>=0 else 0\n",
        "      res = str(plus%2) + res\n",
        "      i, j, plus = i-1, j-1, plus//2\n",
        "    return res\n",
        "a, b = '1001', '11'\n",
        "print(solution().add_binary(a,b))"
      ],
      "execution_count": 15,
      "outputs": [
        {
          "output_type": "stream",
          "text": [
            "1100\n"
          ],
          "name": "stdout"
        }
      ]
    }
  ]
}