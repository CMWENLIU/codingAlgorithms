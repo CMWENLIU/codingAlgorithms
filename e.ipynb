{
  "nbformat": 4,
  "nbformat_minor": 0,
  "metadata": {
    "colab": {
      "name": "e",
      "version": "0.3.2",
      "provenance": [],
      "collapsed_sections": [],
      "include_colab_link": true
    },
    "kernelspec": {
      "name": "python3",
      "display_name": "Python 3"
    }
  },
  "cells": [
    {
      "cell_type": "markdown",
      "metadata": {
        "id": "view-in-github",
        "colab_type": "text"
      },
      "source": [
        "<a href=\"https://colab.research.google.com/github/CMWENLIU/codingAlgorithms/blob/master/e.ipynb\" target=\"_parent\"><img src=\"https://colab.research.google.com/assets/colab-badge.svg\" alt=\"Open In Colab\"/></a>"
      ]
    },
    {
      "cell_type": "code",
      "metadata": {
        "id": "0sASrYY1gaK7",
        "colab_type": "code",
        "outputId": "d8a4f40f-838c-48b2-8055-128e38a22843",
        "colab": {
          "base_uri": "https://localhost:8080/",
          "height": 35
        }
      },
      "source": [
        "def two_sum(a, t):\n",
        "  lookup = {}\n",
        "  for i, v in enumerate(a):\n",
        "    if t - v in lookup:\n",
        "      return [lookup[t-v], i]\n",
        "    lookup[v] = i\n",
        "a = [2, 7, 11,15]\n",
        "r = two_sum(a, 9)\n",
        "r"
      ],
      "execution_count": 0,
      "outputs": [
        {
          "output_type": "execute_result",
          "data": {
            "text/plain": [
              "[0, 1]"
            ]
          },
          "metadata": {
            "tags": []
          },
          "execution_count": 2
        }
      ]
    },
    {
      "cell_type": "code",
      "metadata": {
        "id": "ugcap05Zq7Hl",
        "colab_type": "code",
        "colab": {
          "base_uri": "https://localhost:8080/",
          "height": 35
        },
        "outputId": "f21d99d4-dd92-403f-8ceb-ce3f76fb5e67"
      },
      "source": [
        "class solution(object):\n",
        "  def reverse_integer(self, num):\n",
        "    if num < 0:\n",
        "      return -self.reverse_integer(-num)\n",
        "    r = 0\n",
        "    while num:\n",
        "      r = r*10 + num%10\n",
        "      num //= 10\n",
        "    return r if r<=0x7fffffff else 0\n",
        "s = solution()\n",
        "r = s.reverse_integer(80)\n",
        "r"
      ],
      "execution_count": 26,
      "outputs": [
        {
          "output_type": "execute_result",
          "data": {
            "text/plain": [
              "8"
            ]
          },
          "metadata": {
            "tags": []
          },
          "execution_count": 26
        }
      ]
    },
    {
      "cell_type": "code",
      "metadata": {
        "id": "m4luVdpV_UTP",
        "colab_type": "code",
        "colab": {
          "base_uri": "https://localhost:8080/",
          "height": 35
        },
        "outputId": "5e585f49-1740-4160-e48f-b51fa3885a59"
      },
      "source": [
        "def palindrome_number(x):\n",
        "  if x < 0 or (x != 0 and x % 10 ==0):\n",
        "    return False\n",
        "  r = 0\n",
        "  while (r < x):\n",
        "    r = r * 10 + x % 10\n",
        "    x //= 10\n",
        "  return r == x or r // 10 == x\n",
        "\n",
        "palindrome_number(-909)"
      ],
      "execution_count": 31,
      "outputs": [
        {
          "output_type": "execute_result",
          "data": {
            "text/plain": [
              "False"
            ]
          },
          "metadata": {
            "tags": []
          },
          "execution_count": 31
        }
      ]
    },
    {
      "cell_type": "code",
      "metadata": {
        "id": "yINoZzmVSn13",
        "colab_type": "code",
        "colab": {
          "base_uri": "https://localhost:8080/",
          "height": 35
        },
        "outputId": "b471bf6e-95f8-434d-af96-887e7a1e2450"
      },
      "source": [
        "class solution:\n",
        "  def roman_to_integer(self, s):\n",
        "    num_map = {'I':1, 'V':5, 'X':10, 'L':50, 'C':100, 'D':500, 'M':1000}\n",
        "    r = 0\n",
        "    for i, v in enumerate(s):\n",
        "      if i < len(s)-1 and num_map[s[i]] < num_map[s[i+1]]:\n",
        "        r -= num_map[v]\n",
        "      else:\n",
        "        r += num_map[v]\n",
        "    return r\n",
        "        \n",
        "if __name__ == \"__main__\":\n",
        "  t = solution().roman_to_integer(\"DCCCLXXVIII\")\n",
        "  print(t)"
      ],
      "execution_count": 10,
      "outputs": [
        {
          "output_type": "stream",
          "text": [
            "878\n"
          ],
          "name": "stdout"
        }
      ]
    },
    {
      "cell_type": "code",
      "metadata": {
        "id": "Ww2Q-sQJnKsJ",
        "colab_type": "code",
        "colab": {
          "base_uri": "https://localhost:8080/",
          "height": 35
        },
        "outputId": "18a6912e-c63f-47b9-cdf4-3757e1f19e82"
      },
      "source": [
        "class solution:\n",
        "  def longest_common_prefix(self, strs):\n",
        "    if not strs:\n",
        "      return ''\n",
        "    base = strs[0]\n",
        "    for i in range(len(base)):\n",
        "      for string in strs:\n",
        "        if i >= len(string) or base[i]!= string[i]:\n",
        "          return base[:i]\n",
        "    return base\n",
        "\n",
        "if __name__ == \"__main__\":\n",
        "  r = solution().longest_common_prefix(['abc', 'abcrteui', 'ab4489w','aaaaa'])\n",
        "  print(r)"
      ],
      "execution_count": 1,
      "outputs": [
        {
          "output_type": "stream",
          "text": [
            "a\n"
          ],
          "name": "stdout"
        }
      ]
    },
    {
      "cell_type": "code",
      "metadata": {
        "id": "QTIP8I1LOhZq",
        "colab_type": "code",
        "colab": {
          "base_uri": "https://localhost:8080/",
          "height": 35
        },
        "outputId": "376fa913-106e-4101-e867-c9205cff1a79"
      },
      "source": [
        "class solution():\n",
        "  def valid_parentheses(self, s):\n",
        "    stack, lookup = [], {'(': ')', '{': '}', '[': ']'}\n",
        "    for p in s:\n",
        "      if p in lookup:\n",
        "        stack.append(p)\n",
        "      elif len(stack) == 0 or lookup[stack.pop()] != p:\n",
        "        return False\n",
        "    return len(stack) == 0\n",
        "\n",
        "if __name__ == \"__main__\":\n",
        "  print(solution().valid_parentheses(\"{{{}[]()}}\"))"
      ],
      "execution_count": 11,
      "outputs": [
        {
          "output_type": "stream",
          "text": [
            "True\n"
          ],
          "name": "stdout"
        }
      ]
    }
  ]
}